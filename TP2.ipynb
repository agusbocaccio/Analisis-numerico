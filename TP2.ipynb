{
  "nbformat": 4,
  "nbformat_minor": 0,
  "metadata": {
    "colab": {
      "name": "tp2_numerico.ipynb",
      "provenance": [],
      "collapsed_sections": [
        "Rp5bmNixfjs2",
        "k5HZt8RDhrxn",
        "IH06_X0n8d4K",
        "rO6sLlbb9zk9",
        "8idvnX9f-ZjD"
      ]
    },
    "kernelspec": {
      "name": "python3",
      "display_name": "Python 3"
    },
    "language_info": {
      "name": "python"
    }
  },
  "cells": [
    {
      "cell_type": "markdown",
      "metadata": {
        "id": "K2kScsOUfWhd"
      },
      "source": [
        "# TRABAJO PRÁCTICO 2 - Análisis numérico I [75.12]\n",
        "### Facultad de ingeniería - Universidad de Buenos Aires\n",
        "<br/>\n",
        "\n",
        "## Descomposición de señales mediante series de Fourier a través de resolución de problema de cuadrados mínimos\n",
        "<br/>\n",
        "\n",
        "### Integrantes:\n",
        "| Alumno             | Número de padrón | Email               |\n",
        "|--------------------|------------------|---------------------|\n",
        "| BOCACCIO, Agustina | 106393           | abocaccio@fi.uba.ar |\n",
        "| SINGER, Joaquín    | 105854           | josinger@fi.uba.ar  |\n",
        "| LAZZARO, Melina    | 105931           | mlazzaro@fi.uba.ar  |\n",
        "<br/><br/>\n",
        "\n",
        "#### $1^{er}$ cuatrimestre 2021\n",
        "#### Curso 5 - Cátedra Sassano\n",
        "#### Corrector: María Agustina Turano\n",
        "#### Fecha de entrega: 21/07/2021"
      ]
    },
    {
      "cell_type": "markdown",
      "metadata": {
        "id": "Rp5bmNixfjs2"
      },
      "source": [
        "## 1. Forma general de la serie de Fourier de una señal cuadrada \n",
        "\n",
        "---\n",
        "\n"
      ]
    },
    {
      "cell_type": "markdown",
      "metadata": {
        "id": "AOr8lsflfxhV"
      },
      "source": [
        "##### a) Defina matemáticamente la expresión de una señal cuadrada periódica de amplitud $\\lbrace 1;−1 \\rbrace $ volt, periodo T y *duty cycle* $Dc=50 %$. El *duty cycle* se define como $Dc= \\frac{ \\text{Duracion de la parte positiva de la señal}} { \\text{Duracion total de la señal}}·100 %$"
      ]
    },
    {
      "cell_type": "markdown",
      "metadata": {
        "id": "Q7Y-JlzIkcXF"
      },
      "source": [
        "$$ f(t)\n",
        "            \\begin{cases}\n",
        "            -1 & \\text{si  } -\\frac{T}{2} \\leqslant x < 0\\\\\n",
        "             1& \\text{si  } 0 \\leqslant x < \\frac{T}{2}\\\\\n",
        "            \\end{cases}\n",
        "$$\n",
        "\n",
        "$ f(t) = f(t + T), \\text{ siendo T el periodo de la funcion}$"
      ]
    },
    {
      "cell_type": "markdown",
      "metadata": {
        "id": "GVRJ6yn4hUD7"
      },
      "source": [
        "##### b) Muestre detalladamente el desarrollo de la descomposición en serie de Fourier. Exprese los coeficientes $a_k$ y $b_k$ como números reales y defina el rango del índice $k$ adecuadamente."
      ]
    },
    {
      "cell_type": "markdown",
      "metadata": {
        "id": "3TOPHfhupKXP"
      },
      "source": [
        "El desarrollo de la descomposicion en serie de Fourier es: \n",
        "$f(t) = \\frac{a_0}{2} + \\\n",
        "\\sum_{k=1}^{\\infty}(a_k \\cdot cos(w_kt) + b_k \\cdot sen(w_kt))\n",
        "\\ $\n",
        "\n",
        "con $a_0= \\begin{equation} \\frac{2}{T} \\int \\limits_{-T/2}^{T/2} f(t) \\cdot dt\n",
        "\\end{equation}\n",
        "$\n",
        "\n",
        "con $a_k= \\begin{equation} \\frac{2}{T} \\int \\limits_{-T/2}^{T/2} f(t) \\cdot cos(w_kt) \\cdot dt  \\text{   (k= 0, 1, 2...)}  \n",
        "\\end{equation}\n",
        "$\n",
        "\n",
        " y $ b_k= \\begin{equation} \\frac{2}{T} \\int \\limits_{-T/2}^{T/2} f(t) \\cdot sen(w_kt)) \\cdot dt  \\text{   (k= 1, 2, 3...)} \n",
        "\\end{equation}\n",
        "$\n",
        "\n",
        "siendo $w_k= \\frac{2\\pi k}{T}$ y T el periodo.\n",
        "\n"
      ]
    },
    {
      "cell_type": "markdown",
      "metadata": {
        "id": "uT3pqg8DTliF"
      },
      "source": [
        "Resolvemos para la señal cuadrada:\n",
        "\n",
        " $a_0= \\begin{equation} \\frac{2}{T} \\int \\limits_{-T/2}^{T/2} f(t)\\cdot dt = \\frac{2}{T} (\\int \\limits_{-T/2}^{0} f(t)\\cdot dt + \\int \\limits_{0}^{T/2} f(t)\\cdot dt ) =  \\frac{2}{T} (\\int \\limits_{-T/2}^{0}(-1)\\cdot dt + \\int \\limits_{0}^{T/2} 1\\cdot dt ) = -1 + 1 = 0\n",
        "\\end{equation}\n",
        "$\n",
        "\n",
        "\n",
        " $a_k= \\begin{equation} \\frac{2}{T} \\int \\limits_{-T/2}^{T/2} f(t) \\cdot cos(w_kt) \\cdot dt =0 \\Rightarrow \n",
        "\\end{equation}\n",
        "$\n",
        "como coseno es una funcion par y la señal cuadrada que definimos es completamente impar, el desarrollo de la serie de Fourier para esta funcion no va a tener cosenos.\n",
        "\n",
        "\n",
        "$ b_k= \\begin{equation} \\frac{2}{T} \\int \\limits_{-T/2}^{T/2} f(t) \\cdot sen(w_kt) \\cdot dt \n",
        "\\end{equation}\n",
        "$\n",
        "\n",
        "$ b_k= \\begin{equation} \\frac{2}{T} (\\int \\limits_{-T/2}^{0} (-1) \\cdot sen(w_kt) \\cdot dt  + \\int \\limits_{0}^{T/2} sen(w_kt) \\cdot dt )  \n",
        "\\end{equation}\n",
        "$\n",
        "\n",
        "$ b_k= \\begin{equation} \\frac{2}{Tw_k} ( (cos(w_kt)\\Big|_{-T/2}^0 )+  (cos(w_kt)\\Big|_0^{T/2} ) )  \n",
        "\\end{equation}\n",
        "$\n",
        "\n",
        "$ b_k= \\begin{equation} \\frac{2}{Tw_k} ( 2 -2cos(w_kt))  \n",
        "\\end{equation}\n",
        "$\n",
        "\n",
        "$ b_k= \\begin{equation} \\frac{4}{Tw_k} ( 1 -cos(w_kt))\n",
        "\\end{equation} \n",
        "$\n",
        "\n",
        "teniendo en cuenta que $w_k=\\frac{2\\pi k}{T}$, obtenemos: \n",
        "\n",
        "$ b_k= \\begin{equation} \\frac{2}{k\\pi} ( 1 -cos(k\\pi))\n",
        "\\end{equation} \n",
        "$\n",
        "\n",
        "Reemplazando $b_k$ y $w_k$ en la serie de Fourier nos queda: \n",
        "\n",
        "$f(t) =\n",
        "\\sum_{k=1}^{\\infty} \\frac{2}{k\\pi} (1 -cos(k\\pi)) \\cdot sen(\\frac{2k\\pi}{T} t)\n",
        "\\ $ \n"
      ]
    },
    {
      "cell_type": "markdown",
      "metadata": {
        "id": "SXj_EmN6hjfk"
      },
      "source": [
        "##### c) En términos numéricos, ¿por qué cree que es mejor utilizar una representación en serie de Fourier en vez de la señal cuadrada?"
      ]
    },
    {
      "cell_type": "markdown",
      "metadata": {
        "id": "dI9iwI4w1tPQ"
      },
      "source": [
        "Una ventaja es que obtenemos una función continua. Además nos permite analizar una señal periódica en términos de su contenido frecuencial o espectro permitiéndonos establecer una dualidad entre tiempo y frecuencia, de forma que, operaciones realizadas en el dominio temporal tienen su dual en el dominio frecuencial."
      ]
    },
    {
      "cell_type": "markdown",
      "metadata": {
        "id": "k5HZt8RDhrxn"
      },
      "source": [
        "## 2. Determinación  de  coeficientes  de  Fourier  por  ajuste  de funciones\n",
        "\n",
        "\n",
        "---\n",
        "\n"
      ]
    },
    {
      "cell_type": "markdown",
      "metadata": {
        "id": "MtZbfWd1pc8-"
      },
      "source": [
        "###La señal cuadrada se puede expresar como una serie de Fourier de la siguiente manera\n",
        "\n",
        "$$\n",
        "x(t) = a_{0} + \\sum_{k=1}^{+ \\infty} a_{k} \\cdot \\sin{(k\\omega_{0}t)} + \\sum_{k=1}^{+ \\infty} b_{k} \\cdot \\cos{(k\\omega_{0}t)} \\quad \\textrm{con} \\quad \\omega_{0} = \\frac{2\\pi}{T}\n",
        "$$\n",
        "\n",
        "###Dado que no es posible evaluar los infinitos términos de la descomposición, se requiere encontrar los coeficientes de la serie de Fourier utilizando una aproximación por cuadrados mínimos. Se solicita:"
      ]
    },
    {
      "cell_type": "markdown",
      "metadata": {
        "id": "80cv0eGlp1zU"
      },
      "source": [
        "#####a) si la cantidad máxima de términos a computar es $k_{max}$, determine la expresión de la función de ajuste $s(t)$ a utilizar."
      ]
    },
    {
      "cell_type": "markdown",
      "metadata": {
        "id": "M-rCManijyis"
      },
      "source": [
        "La expresion de funcion de ajuste $s(t)$ a utilizar sera: \n",
        "\n",
        "$$\n",
        "s(t) = a_{0} + \\sum_{k=1}^{k_{max}} a_{k} \\cdot \\sin{(k\\omega_{0}t)} + \\sum_{k=1}^{k_{max}} b_{k} \\cdot \\cos{(k\\omega_{0}t)} \\quad \\textrm{con} \\quad \\omega_{0} = \\frac{2\\pi}{T}\n",
        "$$\n"
      ]
    },
    {
      "cell_type": "markdown",
      "metadata": {
        "id": "t1KuJqjOqKG8"
      },
      "source": [
        "#####b) desarrolle y detalle el procedimiento que lleva a la formulación de las ecuaciones normales para resolver el problema de cuadrados mínimos planteado."
      ]
    },
    {
      "cell_type": "markdown",
      "metadata": {
        "id": "KVWeDHlR4JQG"
      },
      "source": [
        "Queremos resolver el problema de hallar los coeficientes de la serie de Fourier $(a_k, b_k)$ con $0\\leq k \\leq k_{max}$ mediante cuadrados minimos.\n",
        "Para eso usamos la funcion de ajuste $s(t)$ y vamos a necesitar muestras de la funcion, esto es un conjunto de puntos $(t_n, f(t_n))$ para hallar la funcion $s(t)$ que mejor ajuste esos puntos. \n",
        "El sistema de ecuaciones que se puede plantear, con $k_{max}$ terminos a computar y $n$ muestras de la funcion es: \n",
        "\n",
        "$$ \n",
        "            \\begin{cases}\n",
        "            a_0 + \\sum_{k=1}^{k_{max}}a_k \\cdot sen(kw_0t_1)+\\sum_{k=1}^{k_{max}}b_k \\cdot cos(kw_0t_1) = f(t_1)\\\\\n",
        "            a_0 + \\sum_{k=1}^{k_{max}}a_k \\cdot sen(kw_0t_2)+\\sum_{k=1}^{k_{max}}b_k \\cdot cos(kw_0t_2) = f(t_2)\\\\\n",
        "            .... \\\\\n",
        "             a_0 + \\sum_{k=1}^{k_{max}}a_k \\cdot sen(kw_0t_n)+\\sum_{k=1}^{k_{max}}b_k \\cdot cos(kw_0t_n) = f(t_n)\\\\\n",
        "            \\end{cases}\n",
        "$$\n",
        "\n",
        "<br/><br/>\n",
        "Ademas, como la señal que estamos analizando cumple con el Dc de 50%, el termino medio va a ser 0, por lo que el termino $a_0$ vale 0 y el sistema de ecuaciones va a quedar de la siguiente manera:\n",
        "\n",
        "\n",
        "$$ \n",
        "            \\begin{cases}\n",
        "            \\sum_{k=1}^{k_{max}}a_k \\cdot sen(kw_0t_1)+\\sum_{k=1}^{k_{max}}b_k \\cdot cos(kw_0t_1) = f(t_1)\\\\\n",
        "            \\sum_{k=1}^{k_{max}}a_k \\cdot sen(kw_0t_2)+\\sum_{k=1}^{k_{max}}b_k \\cdot cos(kw_0t_2) = f(t_2)\\\\\n",
        "            .... \\\\\n",
        "             \\sum_{k=1}^{k_{max}}a_k \\cdot sen(kw_0t_n)+\\sum_{k=1}^{k_{max}}b_k \\cdot cos(kw_0t_n) = f(t_n)\\\\\n",
        "            \\end{cases}\n",
        "$$\n",
        "\n",
        "<br/><br/>\n",
        "Este problema se puede plantear de forma matricial de la siguiente manera: \n",
        "\n",
        "\n",
        "\\begin{equation}\n",
        "  \\begin{pmatrix}\n",
        "    sen(1w_0t_1) & ... &sen(k_{max}w_0t_1)& cos(1w_0t_1) & ... & cos(k_{max}w_0t_1)\\\\\n",
        "     sen(1w_0t_2) & ... &sen(k_{max}w_0t_2)& cos(1w_0t_2) & ... & cos(k_{max}w_0t_2)\\\\\n",
        "    ...\\\\\n",
        "    sen(1w_0t_n) & ... &sen(k_{max}w_0t_n)& cos(1w_0t_n) & ... & cos(k_{max}w_0t_n)\\\\\n",
        "    \\end{pmatrix}\n",
        "     \\cdot \n",
        "    \\begin{pmatrix}\n",
        "    a1\\\\\n",
        "    ...\\\\\n",
        "    a_{k_{max}} \\\\\n",
        "    b_1\\\\\n",
        "    ...\\\\\n",
        "    b_{k_{max}}\n",
        "    \\end{pmatrix}\n",
        "    =\n",
        "    \\begin{pmatrix}\n",
        "    f(t_1)\\\\\n",
        "    ...\\\\\n",
        "    f(t_n)\\\\\n",
        "    \\end{pmatrix}\n",
        "\\end{equation}\n",
        "\n",
        "Llamaremos a esta ecuacion matricial $Ax=b$. \n",
        "\n",
        "<br/>\n",
        "Esta ecuacion en general no tendra solucion, por lo que se usara el metodo de cuadrados minimos para hallar la solucion con el minimo error ($\\hat{x}$).\n",
        "\n",
        "El metodo trata de hallar el vector $\\hat{x}$ que mejor aproxime el sistema planteado arriba. Es decir, tratamos de minimizar la norma del error \n",
        "$E= ||b-A\\hat{x}||$, para ello se puede plantear un vector residual $r=A\\hat{x}-b$, y como buscamos que el error sea lo mas cercano a la solucion real, queremos que sea ortogonal al subespacio que forma $col(A)$, es decir $A^T \\cdot r =0 $. Esto es porque la proyeccion ortogonal asegura la minima distancia posible al subespacio en cuestion. Asi tenemos: \n",
        "\n",
        "$\\begin{equation} \n",
        "A^T \\cdot r =0 \\\\\n",
        "A^T \\cdot (b-A\\hat{x}) =0 \\\\\n",
        "A^T \\cdot b - A^T \\cdot A\\hat{x} =0 \\\\\n",
        "A^T \\cdot A\\hat{x} = A^T \\cdot b \n",
        "\\end{equation}$ \n",
        "\n",
        "Esta ultima ecuacion se llama _ecuacion normal de Gauss_.\n"
      ]
    },
    {
      "cell_type": "markdown",
      "metadata": {
        "id": "Kx5-Oyo9qRnp"
      },
      "source": [
        "#####c) dado que se tiene un problema de aproximación, exprese matemáticamente la relación que debe cumplir la cantidad de muestras a tomar de la función a aproximar."
      ]
    },
    {
      "cell_type": "markdown",
      "metadata": {
        "id": "FGzDtHY-6yc0"
      },
      "source": [
        "Las incognitas del sistema van a ser los coeficientes de la serie de Fourier, por lo que si tenemos k terminos a computar, la cantidad de constantes a encontrar van a ser, *como minimo*,  $2k_{max} $. Para que el sistema tenga solucion, es preciso que la cantidad de ecuaciones sea igual o mayor a la cantidad de incognitas a hallar (porque el rango de $A^tA$)=rg($A$) y el rg($A^tA$) tiene que ser a lo sumo igual que las incógnitas) Por este motivo, vamos a necesitar  $2k_{max} $ o mas muestras $\\lbrace t_n, f(t_n) \\rbrace $. \n",
        "\n",
        "Por ejemplo, si $k_{max}$ es 3, la cantidad de muestras necesarias van a ser $2 \\cdot 3 = 6$"
      ]
    },
    {
      "cell_type": "markdown",
      "metadata": {
        "id": "9zdZpaEgqUgx"
      },
      "source": [
        "#####d) muestre la forma que debe tener el sistema a resolver y la función $s(t)$ para $k_{max} = 1,3,144$."
      ]
    },
    {
      "cell_type": "markdown",
      "metadata": {
        "id": "wunZFG8mgn7C"
      },
      "source": [
        "En nuestro problema, aplicando el metodo de minimos cuadrados para resolver el sistema de ecuaciones planteado en el ejercicio 2 b), podemos encontrar la solucion de la siguiente manera: \n",
        "<br/><br/>\n",
        "\\begin{equation}\n",
        "  \\begin{pmatrix}\n",
        "    sen(1w_0t_1) & sen(1w_0t_2) & ... & sen(k_{max}w_0t_n) \\\\\n",
        "    ...\\\\\n",
        "    sen(k_{max}w_0t_1) & sen(k_{max}w_0t_2)&... & sen(k_{max}w_0t_n)\\\\\n",
        "    cos(1w_0t_1) & cos(1w_0t_2) & ... & cos(1w_0t_n)\\\\ \n",
        "    ...\\\\\n",
        "    cos(k_{max}w_0t_1) & cos(k_{max}w_0t_2) & ... & cos(k_{max}w_0t_n)\\\\ \n",
        "    \\end{pmatrix}\n",
        "     \\cdot \n",
        "     \\begin{pmatrix}\n",
        "      sen(1w_0t_1) & ... &sen(k_{max}w_0t_1)& cos(1w_0t_1) & ... & cos(k_{max}w_0t_1)\\\\\n",
        "     sen(1w_0t_1) & ... &sen(k_{max}w_0t_2)& cos(1w_0t_2) & ... & cos(k_{max}w_0t_2)\\\\\n",
        "    ...\\\\\n",
        "    sen(1w_0t_n) & ... &sen(k_{max}w_0t_n)& cos(1w_0t_n) & ... & cos(k_{max}w_0t_n)\\\\\n",
        "    \\end{pmatrix}\n",
        "    \\begin{pmatrix}\n",
        "    \\hat{a1}\\\\\n",
        "    ...\\\\\n",
        "    \\hat{a_{k_{max}}} \\\\\n",
        "    \\hat{b_1}\\\\\n",
        "    ...\\\\\n",
        "    \\hat{b_{k_{max}}}\n",
        "    \\end{pmatrix}\n",
        "    =\n",
        "    \\begin{pmatrix}\n",
        "    sen(1w_0t_1) & sen(1w_0t_2) & ... & sen(k_{max}w_0t_n) \\\\\n",
        "    ...\\\\\n",
        "    sen(k_{max}w_0t_1) & sen(k_{max}w_0t_2)&... & sen(k_{max}w_0t_n)\\\\\n",
        "    cos(1w_0t_1) & cos(1w_0t_2) & ... & cos(1w_0t_n)\\\\ \n",
        "    ...\\\\\n",
        "    cos(k_{max}w_0t_1) & cos(k_{max}w_0t_2) & ... & cos(k_{max}w_0t_n)\\\\ \n",
        "    \\end{pmatrix}\n",
        "    \\cdot\n",
        "     \\begin{pmatrix}\n",
        "    f(t_1)\\\\\n",
        "    ...\\\\\n",
        "    f(t_n)\\\\\n",
        "    \\end{pmatrix}\n",
        "\\end{equation}\n",
        "<br/><br/>\n",
        "**Planteamos las ecuaciones para los diferentes k con n muestras:**"
      ]
    },
    {
      "cell_type": "markdown",
      "metadata": {
        "id": "aDxx3_s8hBeI"
      },
      "source": [
        "\n",
        "\n",
        "*  **k = 1**\n",
        "\n",
        "$$\n",
        "s_1(t) = a_{1} \\cdot \\sin{(1\\omega_{0}t)} +  b_{1} \\cdot \\cos{(1\\omega_{0}t)} \\quad \\textrm{con} \\quad \\omega_{0} = \\frac{2\\pi}{T}\n",
        "$$\n",
        "\n",
        "la cantidad de incognitas y por lo tanto tambien de muestras necesarias seran $2 \\cdot 1$= 2, y se puede plantear con el sistema:\n",
        "\n",
        "$$\n",
        "            \\begin{cases}\n",
        "            a_1 \\cdot sen(1w_0t_1)+ b_1 \\cdot cos(1w_0t_1) = f(t_1)\\\\\n",
        "            a_1 \\cdot sen(1w_0t_2)+b_1 \\cdot cos(1w_0t_2) = f(t_2)\\\\\n",
        "            \\end{cases}\n",
        "$$\n",
        "\n",
        "expresado de forma matricial: \n",
        "\n",
        "\\begin{equation}\n",
        "  \\begin{pmatrix}\n",
        "    sen(1w_0t_1) & cos(1w_0t_1) \\\\\n",
        "    sen(1w_0t_2) & cos(1w_0t_2) )\\\\\n",
        "    \\end{pmatrix}\n",
        "     \\cdot \n",
        "    \\begin{pmatrix}\n",
        "    a1\\\\\n",
        "    b_1\\\\\n",
        "    \\end{pmatrix}\n",
        "    =\n",
        "    \\begin{pmatrix}\n",
        "    f(t_1)\\\\\n",
        "    f(t_2)\\\\\n",
        "    \\end{pmatrix}\n",
        "\\end{equation}\n",
        "\n",
        "y la ecuacion a resolver sera: \n",
        "\\begin{equation}\n",
        "  \\begin{pmatrix}\n",
        "    sen(1w_0t_1) & sen(1w_0t_2) &  sen(1w_0t_3)\\\\\n",
        "    cos(1w_0t_1)  & cos(1w_0t_2) &  cos(1w_0t_3)  \\\\\n",
        "    \\end{pmatrix}\n",
        "    \\cdot \n",
        "     \\begin{pmatrix}\n",
        "    sen(1w_0t_1) & cos(1w_0t_1) \\\\\n",
        "    sen(1w_0t_2) & cos(1w_0t_2) )\\\\\n",
        "    sen(1w_0t_3) & cos(1w_0t_3) \\\\\n",
        "    \\end{pmatrix}\n",
        "     \\cdot \n",
        "    \\begin{pmatrix}\n",
        "    \\hat{a1}\\\\\n",
        "    \\hat{b_1}\\\\\n",
        "    \\end{pmatrix}\n",
        "    =\n",
        "     \\begin{pmatrix}\n",
        "    sen(1w_0t_1) & sen(1w_0t_2) & sen(1w_0t_3)\\\\\n",
        "    cos(1w_0t_1)  & cos(1w_0t_2) & cos(1w_0t_3)  \\\\\n",
        "    \\end{pmatrix}\n",
        "    \\cdot \n",
        "    \\begin{pmatrix}\n",
        "    f(t_1)\\\\\n",
        "    f(t_2)\\\\\n",
        "    \\end{pmatrix}\n",
        "\\end{equation}\n",
        "\n",
        "\n"
      ]
    },
    {
      "cell_type": "markdown",
      "metadata": {
        "id": "5SnTlYQ3d3oo"
      },
      "source": [
        "* **k = 3**\n",
        "\n",
        "$$\n",
        "s(t) = \\sum_{k=1}^{3} a_{k} \\cdot \\sin{(k\\omega_{0}t)} + \\sum_{k=1}^{3} b_{k} \\cdot \\cos{(k\\omega_{0}t)} \\quad \\textrm{con} \\quad \\omega_{0} = \\frac{2\\pi}{T}\n",
        "$$\n",
        "\n",
        "la cantidad de incognitas y por lo tanto tambien de muestras necesarias seran $2 \\cdot 3=6$ , y se puede plantear con el sistema:\n",
        "\n",
        "\\begin{equation}\n",
        "  \\begin{pmatrix}\n",
        "    sen(1w_0t_1) & sen(2w_0t_1) &sen(3w_0t_1)& cos(1w_0t_1) & cos(2w_0t_1) & cos(3w_0t_1)\\\\\n",
        "     sen(1w_0t_2) & sen(2w_0t_2) &sen(3w_0t_2)& cos(1w_0t_2) & cos(2w_0t_2) & cos(3w_0t_2)\\\\\n",
        "    ...\\\\\n",
        "     sen(1w_0t_6) & sen(2w_0t_6) &sen(3w_0t_6)& cos(1w_0t_6) & cos(2w_0t_6) & cos(3w_0t_6)\\\\\n",
        "    \\end{pmatrix}\n",
        "     \\cdot \n",
        "    \\begin{pmatrix}\n",
        "    a1\\\\\n",
        "    a_2\\\\\n",
        "    a_3 \\\\\n",
        "    b_1\\\\\n",
        "    b_2\\\\\n",
        "    b_3\n",
        "    \\end{pmatrix}\n",
        "    =\n",
        "    \\begin{pmatrix}\n",
        "    f(t_1)\\\\\n",
        "    ...\\\\\n",
        "    f(t_6)\\\\\n",
        "    \\end{pmatrix}\n",
        "\\end{equation}\n",
        "\n",
        "y el sistema a resolver será: \n",
        "<br/><br/>\n",
        "\\begin{equation}\n",
        "  \\begin{pmatrix}\n",
        "    sen(1w_0t_1) & ... & sen(1w_0t_6)\\\\\n",
        "    sen(2w_0t_1) & ... & sen(2w_0t_6) \\\\ \n",
        "    sen(3w_0t_1) & ... & sen(3w_0t_6) \\\\ \n",
        "    cos(1w_0t_1) & ... & cos(1w_0t_6)  \\\\\n",
        "    cos(2w_0t_1) & ... & cos(2w_0t_6)  \\\\\n",
        "    cos(3w_0t_1) & ... & cos(3w_0t_6)  \\\\\n",
        "    \\end{pmatrix}\n",
        "    \\cdot \n",
        "     \\begin{pmatrix}\n",
        "    sen(1w_0t_1) & sen(2w_0t_1) &sen(3w_0t_1)& cos(1w_0t_1) & cos(2w_0t_1) & cos(3w_0t_1)\\\\\n",
        "     sen(1w_0t_2) & sen(2w_0t_2) &sen(3w_0t_2)& cos(1w_0t_2) & cos(2w_0t_2) & cos(3w_0t_2)\\\\\n",
        "    ...\\\\\n",
        "     sen(1w_0t_6) & sen(2w_0t_6) &sen(3w_0t_6)& cos(1w_0t_6) & cos(2w_0t_6) & cos(3w_0t_6)\\\\\n",
        "    \\end{pmatrix}\n",
        "     \\cdot \n",
        "    \\cdot \n",
        "    \\begin{pmatrix}\n",
        "    \\hat{a1}\\\\\n",
        "    \\hat{a2}\\\\\n",
        "    \\hat{a3}\\\\\n",
        "    \\hat{b_1}\\\\\n",
        "    \\hat{b_2}\\\\\n",
        "    \\hat{b_3}\\\\\n",
        "    \\end{pmatrix}\n",
        "    =\n",
        "    \\begin{pmatrix}\n",
        "    sen(1w_0t_1) & ... & sen(1w_0t_6)\\\\\n",
        "    sen(2w_0t_1) & ... & sen(2w_0t_6) \\\\ \n",
        "    sen(3w_0t_1) & ... & sen(3w_0t_6) \\\\ \n",
        "    cos(1w_0t_1) & ... & cos(1w_0t_6)  \\\\\n",
        "    cos(2w_0t_1) & ... & cos(2w_0t_6)  \\\\\n",
        "    cos(3w_0t_1) & ... & cos(3w_0t_6)  \\\\\n",
        "    \\end{pmatrix}\n",
        "    \\begin{pmatrix}\n",
        "    f(t_1)\\\\\n",
        "    ...\\\\\n",
        "    f(t_6)\\\\\n",
        "    \\end{pmatrix}\n",
        "\\end{equation}"
      ]
    },
    {
      "cell_type": "markdown",
      "metadata": {
        "id": "eEW-dOuoP3s9"
      },
      "source": [
        "* **k = 144**\n",
        "\n",
        "$$\n",
        "s(t) = a_{0} + \\sum_{k=1}^{144} a_{k} \\cdot \\sin{(k\\omega_{0}t)} + \\sum_{k=1}^{144} b_{k} \\cdot \\cos{(k\\omega_{0}t)} \\quad \\textrm{con} \\quad \\omega_{0} = \\frac{2\\pi}{T}\n",
        "$$\n",
        "\n",
        "la cantidad de incógnitas y por lo tanto tambien de muestras necesarias seran $2 \\cdot 144 +1 =245 $, y se puede plantear con el sistema: \n",
        "\n",
        "\\begin{equation}\n",
        "  \\begin{pmatrix}\n",
        "    sen(1w_0t_1) & ... &sen(144w_0t_1)& cos(1w_0t_1) & ... & cos(144w_0t_1)\\\\\n",
        "    sen(1w_0t_2) & ... &sen(144w_0t_2)& cos(1w_0t_2) &  ... & cos(144w_0t_2)\\\\\n",
        "    ...\\\\\n",
        "     sen(1w_0t_{288}) & ... &sen(144w_0t_{288})& cos(1w_0t_{288}) & ... & cos(144w_0t_{288})\\\\\n",
        "    \\end{pmatrix}\n",
        "     \\cdot \n",
        "    \\begin{pmatrix}\n",
        "    a1\\\\\n",
        "    ...\\\\\n",
        "    a_{144} \\\\\n",
        "    b_1\\\\\n",
        "    ...\\\\\n",
        "    b_{144}\n",
        "    \\end{pmatrix}\n",
        "    =\n",
        "    \\begin{pmatrix}\n",
        "    f(t_1)\\\\\n",
        "    ...\\\\\n",
        "    f(t_{288})\\\\\n",
        "    \\end{pmatrix}\n",
        "\\end{equation}\n",
        "\n",
        "y el sistema a resolver será: \n",
        "<br/><br/>\n",
        "\\begin{equation}\n",
        "  \\begin{pmatrix}\n",
        "    sen(1w_0t_1) & ... & sen(1w_0t_{288})\\\\\n",
        "    ... \\\\ \n",
        "    sen(144w_0t_1) & ... & sen(144w_0t_{288}) \\\\ \n",
        "    cos(1w_0t_1) & ... & cos(1w_0t_{288})  \\\\\n",
        "    ...\\\\\n",
        "    cos(144w_0t_1) & ... & cos(144w_0t_{288})  \\\\\n",
        "    \\end{pmatrix}\n",
        "    \\cdot \n",
        "     \\begin{pmatrix}\n",
        "    sen(1w_0t_1) & ... &sen(144w_0t_1)& cos(1w_0t_1) & ... & cos(144w_0t_1)\\\\\n",
        "     sen(1w_0t_2) & ... &sen(144w_0t_2)& cos(1w_0t_2) &  ... & cos(144w_0t_2)\\\\\n",
        "    ...\\\\\n",
        "     sen(1w_0t_{288}) & ... &sen(144w_0t_{288})& cos(1w_0t_{288}) & ... & cos(144w_0t_{288})\\\\\n",
        "    \\end{pmatrix}\n",
        "    \\cdot \n",
        "    \\begin{pmatrix}\n",
        "    \\hat{a1}\\\\\n",
        "    ...\\\\\n",
        "    \\hat{a_{144}}\\\\\n",
        "    \\hat{b_1}\\\\\n",
        "    ...\\\\\n",
        "    \\hat{b_{144}}\\\\\n",
        "    \\end{pmatrix}\n",
        "    =\n",
        "    \\begin{pmatrix}\n",
        "    sen(1w_0t_1) & ... & sen(1w_0t_{288})\\\\\n",
        "    ... \\\\ \n",
        "    sen(144w_0t_1) & ... & sen(144w_0t_{288}) \\\\ \n",
        "    cos(1w_0t_1) & ... & cos(1w_0t_{288})  \\\\\n",
        "    ...\\\\\n",
        "    cos(144w_0t_1) & ... & cos(144w_0t_{288})  \\\\\n",
        "    \\end{pmatrix}\n",
        "    \\cdot \n",
        "    \\begin{pmatrix}\n",
        "    f(t_1)\\\\\n",
        "    ...\\\\\n",
        "    f(t_{288})\\\\\n",
        "    \\end{pmatrix}\n",
        "\\end{equation}"
      ]
    },
    {
      "cell_type": "markdown",
      "metadata": {
        "id": "IH06_X0n8d4K"
      },
      "source": [
        "## 3. Resolución mediante eliminación gaussiana con pivoteo parcial\n",
        "\n",
        "\n",
        "---"
      ]
    },
    {
      "cell_type": "markdown",
      "metadata": {
        "id": "OW4wpT018kqJ"
      },
      "source": [
        "#####a) Describa en no más de 1 página el método de eliminación gaussiana con pivoteo parcial."
      ]
    },
    {
      "cell_type": "markdown",
      "metadata": {
        "id": "ywGfXXmfF-50"
      },
      "source": [
        "El método de eliminación gaussiana consiste en resolver un sistema de ecuaciones en forma matricial mediante transformaciones elementales obteniendo una matriz triangular superior, que se puede resolver facilmente reemplazando progresivamente el valor de cada variable.\n",
        "El pivoteo parcial es una técnica que busca minimizar el error cometido al realizar estas transformaciones elementales, divididendo siempre con el mayor numerador. Para esto, identificamos la fila con el término de mayor magnitud en la columna de interés y la intercambiamos para luego aplicar la eliminación gaussiana.\n",
        "Los pasos a seguir son los siguientes:\n",
        "1. Identificar la fila con el mayor coeficiente en la primera columna, intercambiarla por la primera fila de ser necesario.\n",
        "2. Para la fila que ahora está en la posición 2, obtener un coeficiente $m_{21}=\\frac{a_{21}}{a_{11}}$. Obtener los m para las demás columnas, siempre dividiendo por el $a_{11}$.\n",
        "3. A cada fila restarle la fila 1 multiplicada por su respectivo coeficiente $m$.\n",
        "4. Se obtiene una matriz con ceros en su primera columna excepto en $a_{11}$. Buscar ahora el mayor coeficiente de la segunda columna y repetir los pasos hasta obtener una matriz triangular superior."
      ]
    },
    {
      "cell_type": "markdown",
      "metadata": {
        "id": "vVkC9O_C8mq3"
      },
      "source": [
        "#####b) Implementar en Python3 la resolución del sistema de ecuaciones planteado para un $k_{max}$ genérico utilizando el método de Gauss con pivoteo parcial."
      ]
    },
    {
      "cell_type": "code",
      "metadata": {
        "id": "isgzhotBMZ-D"
      },
      "source": [
        "import numpy as np\n",
        "\n",
        "def gauss_pivoteo_parcial(matriz_aumentada):\n",
        "\n",
        "  if (len(matriz_aumentada)+1 != len(matriz_aumentada[0])):\n",
        "    print(\"Error\")\n",
        "    return None\n",
        "  \n",
        "  for i in range(0, len(matriz_aumentada)-1):\n",
        "    mayor = 0\n",
        "    \n",
        "    for j in range(i, len(matriz_aumentada)):\n",
        "      if (abs(matriz_aumentada[j,i]) >= mayor):\n",
        "        mayor = abs(matriz_aumentada[j,i])\n",
        "        filamayor = j\n",
        "    \n",
        "    if (mayor < 1e-14):\n",
        "      print(\"Error\")\n",
        "      return None\n",
        "\n",
        "    matriz_aumentada[[i, filamayor]] = matriz_aumentada[[filamayor, i]]\n",
        "    \n",
        "    for j in range(i+1, len(matriz_aumentada)):\n",
        "      multiplicador = matriz_aumentada[j,i]/matriz_aumentada[i,i]\n",
        "      for k in range(i, len(matriz_aumentada)+1):\n",
        "        matriz_aumentada[j,k] = matriz_aumentada[j,k] - (multiplicador * matriz_aumentada[i,k])\n",
        "  x = np.zeros(len(matriz_aumentada))\n",
        "  x[len(matriz_aumentada)-1] = matriz_aumentada[len(matriz_aumentada)-1,len(matriz_aumentada)]/matriz_aumentada[len(matriz_aumentada)-1,len(matriz_aumentada)-1]\n",
        "\n",
        "  for i in range(len(matriz_aumentada)-2, -1, -1):\n",
        "    x[i] = matriz_aumentada[i,len(matriz_aumentada)]\n",
        "    for j in range(i+1, len(matriz_aumentada)-1):\n",
        "      x[i] = x[i] - matriz_aumentada[i,j]*x[j]\n",
        "    x[i] = x[i]/matriz_aumentada[i,i]\n",
        "      \n",
        "\n",
        "  return x"
      ],
      "execution_count": null,
      "outputs": []
    },
    {
      "cell_type": "markdown",
      "metadata": {
        "id": "9atrdkjC8pSH"
      },
      "source": [
        "#####c) Con el algoritmo implementado, calcular los coeficientes de Fourier para cada $k_{max} = \\lbrace1,3,13,34,55,144\\rbrace$. Tome 432 muestras de la función cuadrada y un periodo de 1ms. No hace falta mostrar los valores."
      ]
    },
    {
      "cell_type": "code",
      "metadata": {
        "id": "csZi57gaNFAn"
      },
      "source": [
        "import numpy as np\n",
        "\n",
        "T = 1\n",
        "MUESTRAS = 432\n",
        "\n",
        "\n",
        "#para valores entre 0 y T\n",
        "def f(x):\n",
        "  if (0 <= x < T/2):\n",
        "    return 1 \n",
        "  return -1\n",
        "\n",
        "\n",
        "def generar_sistema(k):\n",
        "  \n",
        "  w = (np.pi*2/T)\n",
        "  t =  np.linspace(0, T, MUESTRAS)\n",
        "  matriz = np.zeros((2*k, MUESTRAS), dtype=float)\n",
        "\n",
        "  for i in range(0,k):\n",
        "    for j in range(0, MUESTRAS):\n",
        "      matriz[i,j] = np.sin((i+1)*w*t[j])\n",
        "      matriz[k+i,j] = np.cos((i+1)*w*t[j])\n",
        "\n",
        "  matriz_t = matriz.T\n",
        "  A = np.dot(matriz, matriz_t)\n",
        "\n",
        "  fs = np.zeros(MUESTRAS, dtype=float)\n",
        "  for i in range(0, MUESTRAS):\n",
        "    fs[i] = f(t[i])\n",
        "  \n",
        "  b = np.dot(matriz, fs)\n",
        "\n",
        "  return A,b\n",
        "\n",
        "\n",
        "def obtener_coeficientes_de_fourier_pivoteo(k):\n",
        "  A, b = generar_sistema(k)\n",
        "  matriz_aumentada = np.column_stack((A, b))\n",
        "\n",
        "  return gauss_pivoteo_parcial(matriz_aumentada)\n",
        "\n",
        "\n",
        "X_1 = obtener_coeficientes_de_fourier_pivoteo(1)\n",
        "X_2 = obtener_coeficientes_de_fourier_pivoteo(3)\n",
        "X_3 = obtener_coeficientes_de_fourier_pivoteo(13)\n",
        "X_4 = obtener_coeficientes_de_fourier_pivoteo(34)\n",
        "X_5 = obtener_coeficientes_de_fourier_pivoteo(55)\n",
        "X_6 = obtener_coeficientes_de_fourier_pivoteo(144)"
      ],
      "execution_count": null,
      "outputs": []
    },
    {
      "cell_type": "markdown",
      "metadata": {
        "id": "P8hJWo5a9Lpm"
      },
      "source": [
        "#####d) Graficar 1000 muestras de un periodo de la señal cuadrada ideal superpuesta con las curvas obtenidas para cada $k_{max}$ utilizando la serie de Fourier correspondiente."
      ]
    },
    {
      "cell_type": "code",
      "metadata": {
        "colab": {
          "base_uri": "https://localhost:8080/",
          "height": 295
        },
        "id": "E8U1BpV7FZK1",
        "outputId": "2426cc99-579f-4d6c-a727-ec912a09ee02"
      },
      "source": [
        "import matplotlib.pyplot as plt\n",
        "\n",
        "n = 1000\n",
        "ts = np.linspace(0, T, n)\n",
        "\n",
        "\n",
        "# x es el vector con los coeficientes b_k y a_k\n",
        "# dado un t devuelve el y que le corresponda\n",
        "def fourier(t, k, x):\n",
        "  w = (2*np.pi/T)\n",
        "  return sum([x[i]*np.sin((i+1)*w*t) + x[i+k]*np.cos((i+1)*w*t) for i in range(0,k)])\n",
        "\n",
        "\n",
        "def graficar_aproximacion(k, coeficientes, un_color):\n",
        "  \n",
        "  X = np.zeros(n)\n",
        "  for i in range(0, n):\n",
        "    X[i] = fourier(ts[i], k, coeficientes)\n",
        "\n",
        "  etiqueta = ('k='+str(k))\n",
        "  plt.plot(ts, X, label=etiqueta, color=un_color)\n",
        "\n",
        "graficar_aproximacion(1, X_1, 'C8')\n",
        "graficar_aproximacion(3, X_2, 'C6')\n",
        "graficar_aproximacion(13, X_3, 'C9')\n",
        "graficar_aproximacion(34, X_4, 'C0')\n",
        "graficar_aproximacion(55, X_5, 'C2')\n",
        "graficar_aproximacion(144, X_6, 'C1')\n",
        "\n",
        "X = np.zeros(n)\n",
        "for i in range(0, n):\n",
        "  X[i] = f(ts[i])\n",
        "\n",
        "plt.plot(ts, X, label='f', color='C3')\n",
        "\n",
        "plt.xlim([0, T])\n",
        "plt.title('Aproximacion de f para distintos k resolviendo con eliminacion gaussiana con pivoteo parcial')\n",
        "plt.xlabel('t [ms]')\n",
        "plt.ylabel('y')\n",
        "#plt.grid()\n",
        "plt.legend()\n",
        "plt.show()"
      ],
      "execution_count": null,
      "outputs": [
        {
          "output_type": "display_data",
          "data": {
            "image/png": "[encoded data removed]",
            "text/plain": [
              "<Figure size 432x288 with 1 Axes>"
            ]
          },
          "metadata": {
            "needs_background": "light"
          }
        }
      ]
    },
    {
      "cell_type": "markdown",
      "metadata": {
        "id": "CTXKjZfU9qem"
      },
      "source": [
        "#####e) ¿Cuántos valores de k cree que son necesarios para representar en forma exacta a la función cuadrada? ¿Por qué?"
      ]
    },
    {
      "cell_type": "markdown",
      "metadata": {
        "id": "wEO3B20wS-mT"
      },
      "source": [
        "De acuerdo al teorema de Fourier, se necesita k infinito para representar de forma exacta una función. Sin embargo, al ser la señal cuadrada una funcion con discontinuidades, a medida que se van sumando terminos a la serie, los picos que se producen cerca de los puntos donde hay saltos no disminuyen, por lo que podemos llegar a una buena aproximacion de la funcion pero nunca llegariamos a tener la forma exacta de la señal cuadrada."
      ]
    },
    {
      "cell_type": "markdown",
      "metadata": {
        "id": "rO6sLlbb9zk9"
      },
      "source": [
        "## 4. Resolución mediante el método iterativo de Gauss-Seidel\n",
        "\n",
        "\n",
        "---"
      ]
    },
    {
      "cell_type": "markdown",
      "metadata": {
        "id": "z6_znHc49452"
      },
      "source": [
        "#####a) Describa en no más de 1 página el método iterativo de Gauss-Seidel."
      ]
    },
    {
      "cell_type": "markdown",
      "metadata": {
        "id": "0NTpsH8AbHnI"
      },
      "source": [
        "El método de Gauss-Seidel es un método iterativo para resolver sistemas de ecuaciones compatibles $Ax=b$ iterando a partir de un vector $X^{(0)}$ aproximado. Reemplazamos en la primera ecuación despejando $x_1$. En la siguiente ecuación despejamos $x_2$ a partir de $X^{(0)}$ y el $x_1$ obtenido en el paso anterior. De la misma manera seguimos despejando hasta $x_n$, obteniendo así un vector $X^{(1)}$ y repetimos el procedimiento tantas veces como sea necesario hasta obtener un error tan chico como se desee. \n",
        "\n",
        "Despejando $x_i$ en una iteración $X^k$:\n",
        "\n",
        "\n",
        "$x_i^k=\\frac{b_i-\\sum_{j=1}^{i-1}a_{ij}x_j^k-\\sum_{j=i+1}^{n}a_{ij}x_j^{k-1}}{a_{ii}}$"
      ]
    },
    {
      "cell_type": "markdown",
      "metadata": {
        "id": "15_ySDjc98Pg"
      },
      "source": [
        "#####b) Implementar en Python3 la resolución del sistema de ecuaciones planteado para un $k_{max}$ genérico utilizando el método de Gauss-Seidel."
      ]
    },
    {
      "cell_type": "code",
      "metadata": {
        "id": "rGuuxrNLV8Wh"
      },
      "source": [
        "def gauss_seidel(A, b, x0, tolerancia, max_iteraciones):\n",
        "\n",
        "  dimension = A.shape\n",
        "  if (dimension[0] != dimension[1]) or (dimension[0] != x0.size) or (dimension[0] != b.size):\n",
        "    print('Error: sistema no compatible')\n",
        "    return None\n",
        "    \n",
        "  for i in range(0, dimension[0]):\n",
        "    if abs(A[i,i]) < tolerancia:\n",
        "      print('Error: los coeficientes en la diagonal de A no pueden ser nulos')\n",
        "      return None\n",
        "\n",
        "  x_k = np.copy(x0)\n",
        "  k=0\n",
        "  error_relativo = tolerancia+1\n",
        "  while (k < max_iteraciones) and (error_relativo >= tolerancia):\n",
        "      \n",
        "    x_k_menosuno = np.copy(x_k)\n",
        "        \n",
        "    for i in range(dimension[0]):\n",
        "      suma_k = sum(np.dot(A[i,j], x_k[j]) for j in range(i))\n",
        "      suma_k_menosuno = sum(np.dot(A[i,j], x_k_menosuno[j]) for j in range(i+1, dimension[0]))\n",
        "      x_k[i] = (b[i] - suma_k - suma_k_menosuno) / A[i,i]\n",
        "   \n",
        "    error_relativo = np.linalg.norm(x_k - x_k_menosuno, ord=np.inf)/ np.linalg.norm(x_k, ord=np.inf)\n",
        "    k=k+1\n",
        "\n",
        "  if (k >= max_iteraciones):\n",
        "    print('Error: maxima cantidad de iteraciones alcanzada')   \n",
        "            \n",
        "  return x_k"
      ],
      "execution_count": null,
      "outputs": []
    },
    {
      "cell_type": "markdown",
      "metadata": {
        "id": "EKjas9NT9-xN"
      },
      "source": [
        "#####c) Con el algoritmo implementado, calcular los coeficientes de Fourier para cada $k_{max}$ = {1,3,13,34,55,144}. Tome 432 muestras de la función cuadrada y un periodo de 1ms. No hace falta mostrar los valores. Utilice una tolerancia máxima relativa de 0,1%, utilizando como medida de distancia la norma infinito. Detenga el algoritmo con un mensaje de error si la cantidad de iteraciones es mayor a 500. Respecto al vector solución inicial estimado, puede asumirlo como cero."
      ]
    },
    {
      "cell_type": "code",
      "metadata": {
        "id": "0xUnO0gbII0I"
      },
      "source": [
        "T = 1\n",
        "MUESTRAS = 432\n",
        "TOLERANCIA = 0.001\n",
        "MAX_ITERACIONES = 500\n",
        "\n",
        "\n",
        "#para valores entre 0 y T\n",
        "def f(x):\n",
        "  if (0 <= x < T/2):\n",
        "    return 1 \n",
        "  return -1\n",
        "\n",
        "\n",
        "def generar_sistema(k):\n",
        "  \n",
        "  w = (np.pi*2/T)\n",
        "  t =  np.linspace(0, T, MUESTRAS)\n",
        "  matriz = np.zeros((2*k, MUESTRAS), dtype=float)\n",
        "\n",
        "  for i in range(0,k):\n",
        "    for j in range(0, MUESTRAS):\n",
        "      matriz[i,j] = np.sin((i+1)*w*t[j])\n",
        "      matriz[k+i,j] = np.cos((i+1)*w*t[j])\n",
        "\n",
        "  matriz_t = matriz.T\n",
        "  A = np.dot(matriz, matriz_t)\n",
        "\n",
        "  fs = np.zeros(MUESTRAS, dtype=float)\n",
        "  for i in range(0, MUESTRAS):\n",
        "    fs[i] = f(t[i])\n",
        "  \n",
        "  b = np.dot(matriz, fs)\n",
        "\n",
        "  return A,b\n",
        "\n",
        "\n",
        "def obtener_coeficientes_de_fourier_seidel(k):\n",
        "  A, b = generar_sistema(k)\n",
        "  x0 = np.zeros(2*k)\n",
        "\n",
        "  return gauss_seidel(A, b, x0, TOLERANCIA, MAX_ITERACIONES)\n",
        "\n",
        "\n",
        "X_1 = obtener_coeficientes_de_fourier_seidel(1)\n",
        "X_2 = obtener_coeficientes_de_fourier_seidel(3)\n",
        "X_3 = obtener_coeficientes_de_fourier_seidel(13)\n",
        "X_4 = obtener_coeficientes_de_fourier_seidel(34)\n",
        "X_5 = obtener_coeficientes_de_fourier_seidel(55)\n",
        "X_6 = obtener_coeficientes_de_fourier_seidel(144)"
      ],
      "execution_count": null,
      "outputs": []
    },
    {
      "cell_type": "markdown",
      "metadata": {
        "id": "hsDKje7R-T6U"
      },
      "source": [
        "#####d) Graficar 1000 muestras de un periodo de la señal cuadrada ideal superpuesta con las curvas obtenidas para cada kmax utilizando la serie de Fourier correspondiente."
      ]
    },
    {
      "cell_type": "code",
      "metadata": {
        "id": "VmPqs3XDHG7A",
        "colab": {
          "base_uri": "https://localhost:8080/"
        },
        "outputId": "e3f50e36-afe4-41c1-cba1-1c3561632328"
      },
      "source": [
        "import matplotlib.pyplot as plt\n",
        "\n",
        "n = 1000\n",
        "ts = np.linspace(0, T, n)\n",
        "\n",
        "\n",
        "# x es el vector con los coeficientes b_k y a_k\n",
        "# dado un t devuelve el y que le corresponda\n",
        "def fourier(t, k, x):\n",
        "  w = (2*np.pi/T)\n",
        "  return sum([x[i]*np.sin((i+1)*w*t) + x[i+k]*np.cos((i+1)*w*t) for i in range(0,k)])\n",
        "\n",
        "\n",
        "def graficar_aproximacion(k, coeficientes, un_color):\n",
        "  \n",
        "  X = np.zeros(n)\n",
        "  for i in range(0, n):\n",
        "    X[i] = fourier(ts[i], k, coeficientes)\n",
        "\n",
        "  etiqueta = ('k='+str(k))\n",
        "  plt.plot(ts, X, label=etiqueta, color=un_color)\n",
        "\n",
        "graficar_aproximacion(1, X_1, 'C8')\n",
        "graficar_aproximacion(3, X_2, 'C6')\n",
        "graficar_aproximacion(13, X_3, 'C9')\n",
        "graficar_aproximacion(34, X_4, 'C0')\n",
        "graficar_aproximacion(55, X_5, 'C2')\n",
        "graficar_aproximacion(144, X_6, 'C1')\n",
        "\n",
        "X = np.zeros(n)\n",
        "for i in range(0, n):\n",
        "  X[i] = f(ts[i])\n",
        "\n",
        "plt.plot(ts, X, label='f', color='C3')\n",
        "\n",
        "plt.xlim([0, T])\n",
        "plt.title('Aproximacion de f para distintos k resolviendo con metodo de Gauss Seidel')\n",
        "plt.xlabel('t [ms]')\n",
        "plt.ylabel('y')\n",
        "#plt.grid()\n",
        "plt.legend()\n",
        "plt.show()"
      ],
      "execution_count": null,
      "outputs": [
        {
          "output_type": "display_data",
          "data": {
            "image/png": "[encoded data removed]",
            "text/plain": [
              "<Figure size 432x288 with 1 Axes>"
            ]
          },
          "metadata": {
            "needs_background": "light"
          }
        }
      ]
    },
    {
      "cell_type": "markdown",
      "metadata": {
        "id": "8idvnX9f-ZjD"
      },
      "source": [
        "##5. Comparación entre métodos de solución utilizados\n",
        "\n",
        "\n",
        "---"
      ]
    },
    {
      "cell_type": "markdown",
      "metadata": {
        "id": "X42cFocXaZ1Y"
      },
      "source": [
        "#####a) Crear una tabla donde para cada $k_{max}$ se calcule el error de coeficientes ∆ obtenidos con los dos métodos programados. Para ello utilizar la siguiente propuesta de error: se definen $a_G \\in \\Re^{1 \\times 2k{max}} $ y $b_G \\in \\Re^{1 \\times 2k{max}}$ como los vectores\n",
        "con los coeficientes obtenidos utilizando la eliminación de Gauss con pivoteo\n",
        "parcial. De la misma manera, $a_{GS} \\in \\Re^{1 \\times 2k{max}} $ y $b_{GS} \\in \\Re^{1 \\times 2k{max}}$, son los vectores con los coeficientes obtenidos a través del método de Gauss-Seidel. Por lo tanto se definen los vectores $c_G =[a_G b_G]$ y $c_{GS} = [a_{GS} b_{GS}]$. <br/>\n",
        "Una forma útil de estudiar globalmente la diferencia entre los dos métodos es\n",
        "calculando $∆ = ||c_G-c_{GS} ||$ para cada $k_{max}$ elegido. O sea, se está computando la distancia entre las dos representaciones (algo asi como el “error”)."
      ]
    },
    {
      "cell_type": "code",
      "metadata": {
        "id": "RqH7d-htK0RW",
        "colab": {
          "base_uri": "https://localhost:8080/"
        },
        "outputId": "34abc621-6172-4566-f7be-578345dbebd6"
      },
      "source": [
        "def mostrar_distancia(k):\n",
        "  c_gs = obtener_coeficientes_de_fourier_seidel(k)\n",
        "  c_g = obtener_coeficientes_de_fourier_pivoteo(k)\n",
        "  print(str(k)+'\\t', end='')\n",
        "  print(np.linalg.norm(c_g - c_gs, ord=np.inf))\n",
        "\n",
        "\n",
        "def imprimir_tabla_distancia():\n",
        "  print('k   | distancia  ') \n",
        "  mostrar_distancia(1)\n",
        "  mostrar_distancia(3)\n",
        "  mostrar_distancia(13)\n",
        "  mostrar_distancia(34)\n",
        "  mostrar_distancia(55)\n",
        "  mostrar_distancia(144)\n",
        "\n",
        "imprimir_tabla_distancia()\n"
      ],
      "execution_count": null,
      "outputs": [
        {
          "output_type": "stream",
          "name": "stdout",
          "text": [
            "k   | distancia  \n",
            "1\t0.0\n",
            "3\t2.4488780217061342e-18\n",
            "13\t5.551115123125783e-17\n",
            "34\t5.551115123125783e-17\n",
            "55\t5.551115123125783e-17\n",
            "144\t9.71445146547012e-17\n"
          ]
        }
      ]
    },
    {
      "cell_type": "markdown",
      "metadata": {
        "id": "6zQ-tlLF-y86"
      },
      "source": [
        "#####b) Para cada $k_{max}$, calcular el error cuadrático global al utilizar el método de Gauss-Seidel, definido como $\\varepsilon=||x-s||=\\sqrt{\\sum_{j=1}^{m}[x(t_j)-s(t_j)]^2}$ . Luego, graficar dichos errores en un gráfico $\\varepsilon$ vs $k_{max}$."
      ]
    },
    {
      "cell_type": "code",
      "metadata": {
        "colab": {
          "base_uri": "https://localhost:8080/"
        },
        "id": "P4qTT1-SAf65",
        "outputId": "1b8b4e73-f42a-4ee8-999a-1aa27ad27c84"
      },
      "source": [
        "m = 1000\n",
        "ts = np.linspace(0, T, n)\n",
        "\n",
        "\n",
        "def muestras_aproximacion_de_furier_seidel(k):\n",
        "  S = np.zeros(m)\n",
        "  \n",
        "  coeficientes = obtener_coeficientes_de_fourier_seidel(k)\n",
        "  for i in range(m):\n",
        "    S[i] = fourier(ts[i], k, coeficientes)\n",
        "\n",
        "  return S\n",
        "\n",
        "\n",
        "def error_cuadratico_global_seidel(k):\n",
        "  S = muestras_aproximacion_de_furier_seidel(k)\n",
        "  X = np.zeros(n)\n",
        "  for i in range(0, n):\n",
        "    X[i] = f(ts[i])\n",
        "  return np.linalg.norm(X - S)\n",
        "\n",
        "\n",
        "k = np.array([1, 3, 14, 34, 55, 144])\n",
        "E = np.zeros(6)\n",
        "\n",
        "for i in range(np.size(E)):\n",
        "  E[i] = error_cuadratico_global_seidel(k[i])\n",
        "\n",
        "plt.plot(k, E, color='C1', marker='o')\n",
        "plt.title('Error cuadratico global para cada K')\n",
        "plt.xlabel('k')\n",
        "plt.ylabel('E')\n",
        "plt.grid()\n",
        "plt.show()"
      ],
      "execution_count": null,
      "outputs": [
        {
          "output_type": "display_data",
          "data": {
            "image/png": "[encoded data removed]",
            "text/plain": [
              "<Figure size 432x288 with 1 Axes>"
            ]
          },
          "metadata": {
            "needs_background": "light"
          }
        }
      ]
    },
    {
      "cell_type": "markdown",
      "metadata": {
        "id": "XgOCtsOe-1dO"
      },
      "source": [
        "#####c) Crear una tabla donde para cada $k_{max}$ se muestre: a) el número de condición del sistema a resolver, es decir, el del problema de cuadrados mínimos; b) la norma infinito de la matriz del método de Gauss-Seidel; c) el radio espectral de la matriz del método de Gauss-Seidel. ¿Qué observaciones y conclusiones puede hacer? Se recomienda repasar la clase teórica sobre el tema."
      ]
    },
    {
      "cell_type": "code",
      "metadata": {
        "colab": {
          "base_uri": "https://localhost:8080/"
        },
        "id": "m0AUSUc6D3Nh",
        "outputId": "873927b0-9ceb-444d-a7e1-99983b4f902f"
      },
      "source": [
        "def descomposicion_seidel(A, b):\n",
        "  dimension = A.shape\n",
        "  D = np.zeros(shape=dimension, dtype=float)\n",
        "  L = np.zeros(shape=dimension, dtype=float)\n",
        "  U = np.zeros(shape=dimension, dtype=float)\n",
        "\n",
        "  for i in range(dimension[0]):\n",
        "    for j in range(dimension[1]):\n",
        "      if (j==i):\n",
        "        D[i,j] = A[i,j]\n",
        "      elif (i > j):\n",
        "        L[i,j] = (-1)*A[i,j]\n",
        "      elif (j > i):\n",
        "        U[i,j] = (-1)*A[i,j]\n",
        "\n",
        "  D_inv = np.linalg.inv(D)\n",
        "  T = np.dot(D_inv, L+U)\n",
        "  C = np.dot(D_inv, b)\n",
        "\n",
        "  return T, C             \n",
        "\n",
        "\n",
        "def numero_de_condicion(T):\n",
        "  T_inv = np.linalg.inv(T)\n",
        "  return np.dot(np.linalg.norm(T, ord=np.inf), np.linalg.norm(T_inv, ord=np.inf))\n",
        "\n",
        "\n",
        "#Los metodos convergen a la unica solucion si el radio espectral es menor a 1\n",
        "def radio_espectral(T):\n",
        "  autovalores = np.abs(np.linalg.eigvals(T))\n",
        "  return max(autovalores) \n",
        "\n",
        "\n",
        "def imprimir_datos(k):\n",
        "  print(str(k)+'\\t', end='')\n",
        "  A, b = generar_sistema(k)\n",
        "  print(str(numero_de_condicion(A))+'\\t', end='')\n",
        "\n",
        "  T, C = descomposicion_seidel(A, b)\n",
        "  print(str(np.linalg.norm(T, ord=np.inf))+'\\t', end='') #Los metodos convergen si la norma matricial es menor a 1\n",
        "  print(str(radio_espectral(T)), end='\\n')\n",
        "\n",
        "\n",
        "def imprimir_tabla():\n",
        "  print('k   |   numero de condicion  |   norma infinito de T  |   radio espectral de T  ') \n",
        "  imprimir_datos(1)\n",
        "  imprimir_datos(3)\n",
        "  imprimir_datos(13)\n",
        "  imprimir_datos(34)\n",
        "  imprimir_datos(55)\n",
        "  imprimir_datos(144)\n",
        "\n",
        "imprimir_tabla()  "
      ],
      "execution_count": null,
      "outputs": [
        {
          "output_type": "stream",
          "name": "stdout",
          "text": [
            "k   |   numero de condicion  |   norma infinito de T  |   radio espectral de T  \n",
            "1\t1.004640371229699\t9.347784856046718e-18\t9.326171451737303e-18\n",
            "3\t1.0185614849187938\t0.009237875288683674\t0.009237875288683268\n",
            "13\t1.1113689095127701\t0.05542725173210599\t0.05542725173209982\n",
            "34\t1.3062645011601313\t0.1524249422632962\t0.15242494226327366\n",
            "55\t1.5011600928075248\t0.24942263279449844\t0.24942263279444782\n",
            "144\t2.327146171694398\t0.6605080831410998\t0.6605080831408556\n"
          ]
        }
      ]
    },
    {
      "cell_type": "markdown",
      "metadata": {
        "id": "5ZTEvxRLijpn"
      },
      "source": [
        "Observamos que para todos los k se cumplen las condiciones de convergencia para los métodos. <br/>\n",
        "En primer lugar, La matriz A del problema de cuadrados mínimos está bien condicionada para todos los k ya que si bien el número de condición aumenta a medida que aumenta k, este nunca llega a diferir lo suficiente de 1 como para que la matriz esté mal condicionada para los k tomados.  <br/>\n",
        "En segundo lugar, la norma infinito de T para Gauss Seidel aumenta con cada k, pero se mantiene menor a 1 para los k tomados, asegurando la convergencia del método. <br/>\n",
        "Por último, el radio espectral de T para Gauss Seidel, al igual que su norma infinito, aumenta al aumentar k pero se mantiene menor a 1 para los k tomados, asegurando que el método converge a su única solución."
      ]
    },
    {
      "cell_type": "markdown",
      "metadata": {
        "id": "tzuPRaxF_Azl"
      },
      "source": [
        "#####d) ¿Existirá un valor de k para el cual el error se haga prácticamente igual a cero? Justifique su respuesta, analizando el fenómeno de Gibbs y los errores involucrados en la resolución."
      ]
    },
    {
      "cell_type": "markdown",
      "metadata": {
        "id": "F6keUPd-LO2l"
      },
      "source": [
        "El fenomeno de Gibbs, llamado asi por J. Willard Gibbs, quien fue el primero en explicarlo, describe el comportamiento que tiene la serie de Fourier cuando la función que se quiere aproximar está definida a trozos periodica, indica que no es posible que haya una buena convergencia en los entornos en los que se producen las discontinuidades de las mismas. \n",
        "\n",
        "La función que estamos aproximando con la serie de Fourier se trata de una señal cuadrada, la cual tiene discontinuidades no evitables de salto finito. Se puede tener una buena aproximación de la funcion mediante el aumento de los términos de la serie, pero por lo que explica el fenomeno de Gibbs, el error en los puntos donde se produce la discontinuidad nunca va a ser practicamente igual a cero, ya que los picos que se producen cerca de estos puntos no disminuyen. "
      ]
    },
    {
      "cell_type": "markdown",
      "metadata": {
        "id": "flgtqKhD_GDe"
      },
      "source": [
        "#####e) ¿Cuáles son los errores presentes en la resolución del problema? Indique en que parte de la resolución aparece cada uno de ellos."
      ]
    },
    {
      "cell_type": "markdown",
      "metadata": {
        "id": "R2nIX4AtLPQz"
      },
      "source": [
        "Los errores presentes en la resolucion del problema de hallar los coeficientes de la serie de Fourier con ambos métodos se producen cuando definimos la matriz a resolver, que se forma desde el metodo de cuadrados mínimos, cuya resolución no es exacta. Además, con los métodos de Gauss Seidel y Gauss con pivoteo parcial obtenemos una aproximación de la solución. \n",
        "\n",
        "A estos desaciertos que se produjeron se suman a que lo que se busca es una aproximacion de una funcion discontinua periodica con la serie de Fourier, por lo que hay errores en los puntos donde se producen estos saltos, debido al fenomeno de Gibbs.\n",
        "\n",
        "Por último, como las computadoras no pueden representar infinitos números, al error de todos los métodos programados se les suma el error de redondeo de la herramienta. En este caso, con el tipo de dato float en 64 bits posemos asegurar 15 dígitos correctos."
      ]
    }
  ]
}